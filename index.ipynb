{
 "cells": [
  {
   "cell_type": "markdown",
   "metadata": {},
   "source": [
    "# GWAS lecture using limix\n",
    "\n",
    "A set of lectures on Genome Wide Association Studies (GWAS) with Limix, Python and Jupyter Notebooks. The notebooks are heavily based on the original [limix tutorial notebooks](http://nbviewer.jupyter.org/github/limix/limix-tutorials/blob/master/index.ipynb) but adapted to work with the latest stable Limix 1.x release.\n",
    "\n",
    "### Table of Contents\n",
    "\n",
    "0. [Lecture 0 - Setup of Python Environment](Lecture-0-Setup-of-Python-Environment.ipynb)\n",
    "1. [Lecture 1 - Introduction to Jupyter Notebooks](Lecture-1-Introduction-to-Jupyter-Notebooks.ipynb)\n",
    "2. [Lecture 2 - Introduction to Python-Programming](Lecture-2-Introduction-to-Python-Programming.ipynb)\n",
    "3. [Lecture 3 - Introduction to Numpy](Lecture-3-Introduction-to-Numpy.ipynb)\n",
    "4. [Lecture 4 - Matplotlib](Lecture-4-Matplotlib.ipynb)\n",
    "5. [Lecture 5 - HDF5 h5py PyTables](Lecture-5-HDF5-h5py-PyTables.ipynb)\n",
    "6. [Lecture 6 - Linear Regression ](Lecture-6-Linear-Regression.ipynb)\n",
    "7. [Lecture 7 - Linear Mixed Model](Lecture-7-Linear-Mixed-Model.ipynb)\n",
    "8. [Lecture 8 - Multi Trait Linear Mixed Model](Lecture-8-Multi-Trait-Linear-Mixed-Model.ipynb)\n",
    "9. [Lecture 9 - Estimating (SNP) narrow-sense heritability](Lecture-9-SNPHeritability.ipynb)\n",
    "10. [Lecture 10 - Estimating (SNP) broade-sense heritability](Lecture-10-BroadSenseHeritability.ipynb)"
   ]
  },
  {
   "cell_type": "code",
   "execution_count": null,
   "metadata": {},
   "outputs": [],
   "source": []
  }
 ],
 "metadata": {
  "kernelspec": {
   "display_name": "Python 3",
   "language": "python",
   "name": "python3"
  },
  "language_info": {
   "codemirror_mode": {
    "name": "ipython",
    "version": 3
   },
   "file_extension": ".py",
   "mimetype": "text/x-python",
   "name": "python",
   "nbconvert_exporter": "python",
   "pygments_lexer": "ipython3",
   "version": "3.6.10"
  }
 },
 "nbformat": 4,
 "nbformat_minor": 2
}
