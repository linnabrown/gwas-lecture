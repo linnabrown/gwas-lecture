{
 "cells": [
  {
   "cell_type": "markdown",
   "metadata": {},
   "source": [
    "## Introduction\n",
    "\n",
    "As mentioned in the last notebook, it is necessary to inspect your data before analysis. For example, are you sure you know which file delimiter was used to create the file? Should the data be transposed? Data preprocessing steps also include inspecting the covariates and plotting data to search for outliers that may indicate measurement (or data entry) errors. \n",
    "\n",
    "We also discussed steps that can be used to determine whether the data fit classical statistical assumptions. This notebook continues in this area. In particular, we introduce generalize linear models (GLMs) that can be used to analyze non-normal data, such as count data or percentages.\n",
    "\n",
    "For this notebook, we will use the glucosinolate data that we downloaded earlier.\n",
    "\n",
    "### Load the glucosinolate data"
   ]
  },
  {
   "cell_type": "code",
   "execution_count": 1,
   "metadata": {},
   "outputs": [],
   "source": [
    "# rm(list=ls());\n",
    "# open the glucosinolate file in R\n",
    "# same file as before...\n",
    "glucosinolateFileName <- \"data/cmeyer_glucs2015/bmeyer_etal.txt\";  \n",
    "glucs <- read.table(glucosinolateFileName, header=T, sep=\"\\t\", as.is=T, stringsAsFactors=FALSE);  \n",
    "glucs <- glucs[order(glucs[,\"accession_id\"]),];"
   ]
  },
  {
   "cell_type": "code",
   "execution_count": 2,
   "metadata": {},
   "outputs": [
    {
     "data": {
      "text/html": [
       "<ol class=list-inline>\n",
       "\t<li>'glucosinolateFileName'</li>\n",
       "\t<li>'glucs'</li>\n",
       "</ol>\n"
      ],
      "text/latex": [
       "\\begin{enumerate*}\n",
       "\\item 'glucosinolateFileName'\n",
       "\\item 'glucs'\n",
       "\\end{enumerate*}\n"
      ],
      "text/markdown": [
       "1. 'glucosinolateFileName'\n",
       "2. 'glucs'\n",
       "\n",
       "\n"
      ],
      "text/plain": [
       "[1] \"glucosinolateFileName\" \"glucs\"                "
      ]
     },
     "metadata": {},
     "output_type": "display_data"
    }
   ],
   "source": [
    "# what's in the working environment?\n",
    "ls();"
   ]
  },
  {
   "cell_type": "markdown",
   "metadata": {},
   "source": [
    "### What is the statistical model?\n",
    "\n",
    "During today's notebook, we will discuss *Poisson* family analyses. Poisson models (and their derivatives) are used to analyze count data, which are very common.\n",
    "\n",
    "Examples:\n",
    "  - The number of microbial species in each of our gut microbiomes \n",
    "  - The number of people that die from hippo attacks each year\n",
    "  - The number of reads assigned to a gene in an RNA-Seq dataset\n",
    " \n",
    "The glucosinolate data are also count data."
   ]
  },
  {
   "cell_type": "code",
   "execution_count": 3,
   "metadata": {},
   "outputs": [
    {
     "name": "stdout",
     "output_type": "stream",
     "text": [
      "'data.frame':\t2199 obs. of  24 variables:\n",
      " $ accession_id : int  1 1 2 2 2 2 4 4 4 6 ...\n",
      " $ sample_weight: num  27 22.1 15.2 29.9 31 30.9 17.8 24.6 29.5 18.3 ...\n",
      " $ G2P          : num  1391 7735 8268 1411 1055 ...\n",
      " $ G3B          : num  103709 69932 144750 27740 82118 ...\n",
      " $ G3HP         : num  35.9 0 202.1 0 88.7 ...\n",
      " $ G4P          : num  5248 2501 5546 117 2590 ...\n",
      " $ G2H3B        : num  25310 24289 78818 24818 29056 ...\n",
      " $ G4HB         : num  0 0 7.14 0 32.25 ...\n",
      " $ G2H4P        : num  656 390 1967 435 1214 ...\n",
      " $ G3MTP        : num  0 0 0 0 0 0 0 0 0 0 ...\n",
      " $ G4MTB        : num  322 0 0 0 323 ...\n",
      " $ G3MSP        : num  0 0 0 0 0 ...\n",
      " $ G5MTP        : num  0 0 0 0 80.3 ...\n",
      " $ G4MSB        : num  0 68.6 87 0 22.5 ...\n",
      " $ G6MTH        : num  3611 117 412 2256 8807 ...\n",
      " $ G5MSP        : num  32.3 56.1 76.7 0 227.5 ...\n",
      " $ G7MTH        : num  2951.5 0 0 46.9 3107 ...\n",
      " $ G6MSH        : num  96 248 1017 0 429 ...\n",
      " $ G8MTO        : num  8244 0 0 577 18943 ...\n",
      " $ G7MSH        : num  2142 1401 11407 390 2914 ...\n",
      " $ G3BOP        : num  0 67.7 0 0 0 ...\n",
      " $ G8MSO        : num  23523 27463 102817 7644 36178 ...\n",
      " $ G4BOB        : num  1424 1789 8170 285 2611 ...\n",
      " $ G5BOP        : num  0 920.7 3357.2 0 61.8 ...\n"
     ]
    }
   ],
   "source": [
    "str(glucs)"
   ]
  },
  {
   "cell_type": "code",
   "execution_count": 4,
   "metadata": {},
   "outputs": [
    {
     "data": {
      "text/html": [
       "<table>\n",
       "<thead><tr><th></th><th scope=col>accession_id</th><th scope=col>sample_weight</th><th scope=col>G2P</th><th scope=col>G3B</th><th scope=col>G3HP</th><th scope=col>G4P</th><th scope=col>G2H3B</th><th scope=col>G4HB</th><th scope=col>G2H4P</th><th scope=col>G3MTP</th><th scope=col>⋯</th><th scope=col>G6MTH</th><th scope=col>G5MSP</th><th scope=col>G7MTH</th><th scope=col>G6MSH</th><th scope=col>G8MTO</th><th scope=col>G7MSH</th><th scope=col>G3BOP</th><th scope=col>G8MSO</th><th scope=col>G4BOB</th><th scope=col>G5BOP</th></tr></thead>\n",
       "<tbody>\n",
       "\t<tr><th scope=row>892</th><td>1         </td><td>27.0      </td><td>1391.3143 </td><td>103708.84 </td><td> 35.89132 </td><td>5248.4694 </td><td>25310.19  </td><td> 0.000000 </td><td> 656.2984 </td><td>0         </td><td>⋯         </td><td>3611.0269 </td><td> 32.32934 </td><td>2951.46171</td><td>  96.03157</td><td> 8243.8638</td><td> 2142.1924</td><td> 0.00000  </td><td> 23523.238</td><td>1424.3284 </td><td>   0.00000</td></tr>\n",
       "\t<tr><th scope=row>1692</th><td>1         </td><td>22.1      </td><td>7734.5149 </td><td> 69932.37 </td><td>  0.00000 </td><td>2500.7568 </td><td>24289.34  </td><td> 0.000000 </td><td> 390.3385 </td><td>0         </td><td>⋯         </td><td> 116.8998 </td><td> 56.07342 </td><td>   0.00000</td><td> 247.84098</td><td>    0.0000</td><td> 1401.4957</td><td>67.66343  </td><td> 27462.923</td><td>1789.0852 </td><td> 920.67350</td></tr>\n",
       "\t<tr><th scope=row>683</th><td>2         </td><td>15.2      </td><td>8267.7205 </td><td>144750.06 </td><td>202.10448 </td><td>5545.6431 </td><td>78817.75  </td><td> 7.136438 </td><td>1966.7867 </td><td>0         </td><td>⋯         </td><td> 411.9168 </td><td> 76.65779 </td><td>   0.00000</td><td>1016.59783</td><td>    0.0000</td><td>11407.0228</td><td> 0.00000  </td><td>102816.760</td><td>8169.7092 </td><td>3357.24848</td></tr>\n",
       "\t<tr><th scope=row>870</th><td>2         </td><td>29.9      </td><td>1411.4871 </td><td> 27739.70 </td><td>  0.00000 </td><td> 116.5999 </td><td>24817.58  </td><td> 0.000000 </td><td> 435.3465 </td><td>0         </td><td>⋯         </td><td>2256.3011 </td><td>  0.00000 </td><td>  46.88039</td><td>   0.00000</td><td>  577.0562</td><td>  389.6314</td><td> 0.00000  </td><td>  7644.041</td><td> 284.5212 </td><td>   0.00000</td></tr>\n",
       "\t<tr><th scope=row>887</th><td>2         </td><td>31.0      </td><td>1055.4795 </td><td> 82117.61 </td><td> 88.72688 </td><td>2589.5366 </td><td>29056.36  </td><td>32.245193 </td><td>1213.7386 </td><td>0         </td><td>⋯         </td><td>8806.8255 </td><td>227.51344 </td><td>3107.01884</td><td> 428.95742</td><td>18943.1403</td><td> 2913.7202</td><td> 0.00000  </td><td> 36178.023</td><td>2610.6636 </td><td>  61.77065</td></tr>\n",
       "\t<tr><th scope=row>973</th><td>2         </td><td>30.9      </td><td> 967.1328 </td><td> 38721.42 </td><td>  0.00000 </td><td> 880.6843 </td><td>17378.24  </td><td>34.532081 </td><td> 391.1320 </td><td>0         </td><td>⋯         </td><td>2292.2790 </td><td>  0.00000 </td><td> 810.27345</td><td>  93.65825</td><td> 2614.6889</td><td>  970.8893</td><td> 0.00000  </td><td>  9763.230</td><td> 493.1664 </td><td>   0.00000</td></tr>\n",
       "</tbody>\n",
       "</table>\n"
      ],
      "text/latex": [
       "\\begin{tabular}{r|llllllllllllllllllllllll}\n",
       "  & accession\\_id & sample\\_weight & G2P & G3B & G3HP & G4P & G2H3B & G4HB & G2H4P & G3MTP & ⋯ & G6MTH & G5MSP & G7MTH & G6MSH & G8MTO & G7MSH & G3BOP & G8MSO & G4BOB & G5BOP\\\\\n",
       "\\hline\n",
       "\t892 & 1          & 27.0       & 1391.3143  & 103708.84  &  35.89132  & 5248.4694  & 25310.19   &  0.000000  &  656.2984  & 0          & ⋯          & 3611.0269  &  32.32934  & 2951.46171 &   96.03157 &  8243.8638 &  2142.1924 &  0.00000   &  23523.238 & 1424.3284  &    0.00000\\\\\n",
       "\t1692 & 1          & 22.1       & 7734.5149  &  69932.37  &   0.00000  & 2500.7568  & 24289.34   &  0.000000  &  390.3385  & 0          & ⋯          &  116.8998  &  56.07342  &    0.00000 &  247.84098 &     0.0000 &  1401.4957 & 67.66343   &  27462.923 & 1789.0852  &  920.67350\\\\\n",
       "\t683 & 2          & 15.2       & 8267.7205  & 144750.06  & 202.10448  & 5545.6431  & 78817.75   &  7.136438  & 1966.7867  & 0          & ⋯          &  411.9168  &  76.65779  &    0.00000 & 1016.59783 &     0.0000 & 11407.0228 &  0.00000   & 102816.760 & 8169.7092  & 3357.24848\\\\\n",
       "\t870 & 2          & 29.9       & 1411.4871  &  27739.70  &   0.00000  &  116.5999  & 24817.58   &  0.000000  &  435.3465  & 0          & ⋯          & 2256.3011  &   0.00000  &   46.88039 &    0.00000 &   577.0562 &   389.6314 &  0.00000   &   7644.041 &  284.5212  &    0.00000\\\\\n",
       "\t887 & 2          & 31.0       & 1055.4795  &  82117.61  &  88.72688  & 2589.5366  & 29056.36   & 32.245193  & 1213.7386  & 0          & ⋯          & 8806.8255  & 227.51344  & 3107.01884 &  428.95742 & 18943.1403 &  2913.7202 &  0.00000   &  36178.023 & 2610.6636  &   61.77065\\\\\n",
       "\t973 & 2          & 30.9       &  967.1328  &  38721.42  &   0.00000  &  880.6843  & 17378.24   & 34.532081  &  391.1320  & 0          & ⋯          & 2292.2790  &   0.00000  &  810.27345 &   93.65825 &  2614.6889 &   970.8893 &  0.00000   &   9763.230 &  493.1664  &    0.00000\\\\\n",
       "\\end{tabular}\n"
      ],
      "text/markdown": [
       "\n",
       "| <!--/--> | accession_id | sample_weight | G2P | G3B | G3HP | G4P | G2H3B | G4HB | G2H4P | G3MTP | ⋯ | G6MTH | G5MSP | G7MTH | G6MSH | G8MTO | G7MSH | G3BOP | G8MSO | G4BOB | G5BOP | \n",
       "|---|---|---|---|---|---|\n",
       "| 892 | 1          | 27.0       | 1391.3143  | 103708.84  |  35.89132  | 5248.4694  | 25310.19   |  0.000000  |  656.2984  | 0          | ⋯          | 3611.0269  |  32.32934  | 2951.46171 |   96.03157 |  8243.8638 |  2142.1924 |  0.00000   |  23523.238 | 1424.3284  |    0.00000 | \n",
       "| 1692 | 1          | 22.1       | 7734.5149  |  69932.37  |   0.00000  | 2500.7568  | 24289.34   |  0.000000  |  390.3385  | 0          | ⋯          |  116.8998  |  56.07342  |    0.00000 |  247.84098 |     0.0000 |  1401.4957 | 67.66343   |  27462.923 | 1789.0852  |  920.67350 | \n",
       "| 683 | 2          | 15.2       | 8267.7205  | 144750.06  | 202.10448  | 5545.6431  | 78817.75   |  7.136438  | 1966.7867  | 0          | ⋯          |  411.9168  |  76.65779  |    0.00000 | 1016.59783 |     0.0000 | 11407.0228 |  0.00000   | 102816.760 | 8169.7092  | 3357.24848 | \n",
       "| 870 | 2          | 29.9       | 1411.4871  |  27739.70  |   0.00000  |  116.5999  | 24817.58   |  0.000000  |  435.3465  | 0          | ⋯          | 2256.3011  |   0.00000  |   46.88039 |    0.00000 |   577.0562 |   389.6314 |  0.00000   |   7644.041 |  284.5212  |    0.00000 | \n",
       "| 887 | 2          | 31.0       | 1055.4795  |  82117.61  |  88.72688  | 2589.5366  | 29056.36   | 32.245193  | 1213.7386  | 0          | ⋯          | 8806.8255  | 227.51344  | 3107.01884 |  428.95742 | 18943.1403 |  2913.7202 |  0.00000   |  36178.023 | 2610.6636  |   61.77065 | \n",
       "| 973 | 2          | 30.9       |  967.1328  |  38721.42  |   0.00000  |  880.6843  | 17378.24   | 34.532081  |  391.1320  | 0          | ⋯          | 2292.2790  |   0.00000  |  810.27345 |   93.65825 |  2614.6889 |   970.8893 |  0.00000   |   9763.230 |  493.1664  |    0.00000 | \n",
       "\n",
       "\n"
      ],
      "text/plain": [
       "     accession_id sample_weight G2P       G3B       G3HP      G4P      \n",
       "892  1            27.0          1391.3143 103708.84  35.89132 5248.4694\n",
       "1692 1            22.1          7734.5149  69932.37   0.00000 2500.7568\n",
       "683  2            15.2          8267.7205 144750.06 202.10448 5545.6431\n",
       "870  2            29.9          1411.4871  27739.70   0.00000  116.5999\n",
       "887  2            31.0          1055.4795  82117.61  88.72688 2589.5366\n",
       "973  2            30.9           967.1328  38721.42   0.00000  880.6843\n",
       "     G2H3B    G4HB      G2H4P     G3MTP ⋯ G6MTH     G5MSP     G7MTH     \n",
       "892  25310.19  0.000000  656.2984 0     ⋯ 3611.0269  32.32934 2951.46171\n",
       "1692 24289.34  0.000000  390.3385 0     ⋯  116.8998  56.07342    0.00000\n",
       "683  78817.75  7.136438 1966.7867 0     ⋯  411.9168  76.65779    0.00000\n",
       "870  24817.58  0.000000  435.3465 0     ⋯ 2256.3011   0.00000   46.88039\n",
       "887  29056.36 32.245193 1213.7386 0     ⋯ 8806.8255 227.51344 3107.01884\n",
       "973  17378.24 34.532081  391.1320 0     ⋯ 2292.2790   0.00000  810.27345\n",
       "     G6MSH      G8MTO      G7MSH      G3BOP    G8MSO      G4BOB     G5BOP     \n",
       "892    96.03157  8243.8638  2142.1924  0.00000  23523.238 1424.3284    0.00000\n",
       "1692  247.84098     0.0000  1401.4957 67.66343  27462.923 1789.0852  920.67350\n",
       "683  1016.59783     0.0000 11407.0228  0.00000 102816.760 8169.7092 3357.24848\n",
       "870     0.00000   577.0562   389.6314  0.00000   7644.041  284.5212    0.00000\n",
       "887   428.95742 18943.1403  2913.7202  0.00000  36178.023 2610.6636   61.77065\n",
       "973    93.65825  2614.6889   970.8893  0.00000   9763.230  493.1664    0.00000"
      ]
     },
     "metadata": {},
     "output_type": "display_data"
    }
   ],
   "source": [
    "head(glucs);"
   ]
  },
  {
   "cell_type": "code",
   "execution_count": 5,
   "metadata": {},
   "outputs": [
    {
     "name": "stderr",
     "output_type": "stream",
     "text": [
      "Loading required package: lme4\n",
      "Warning message:\n",
      "“package ‘lme4’ was built under R version 3.4.4”Loading required package: Matrix\n",
      "Loading required package: ggplot2\n",
      "Loading required package: gridExtra\n"
     ]
    }
   ],
   "source": [
    "# if lme4, ggplot2, and gridExtra aren't installed, install them...\n",
    "if( !require(\"lme4\" )){  \n",
    "    install.packages(\"lme4\");  \n",
    "}\n",
    "\n",
    "if( !require(\"ggplot2\" )){  \n",
    "    install.packages(\"ggplot2\");  \n",
    "}\n",
    "\n",
    "if( !require(\"gridExtra\" )){  \n",
    "    install.packages(\"gridExtra\");  \n",
    "}\n"
   ]
  },
  {
   "cell_type": "markdown",
   "metadata": {},
   "source": [
    "### Replicates in the data\n",
    "\n",
    "As noted earlier, the glucosinolate data were generated with *Arabidopsis thaliana*, the plant genetic model species. It is among the main model species used by plant geneticists in part because it is self compatible. This means that replicated inbred lines can be used in experiments to reduce experimental noise. Importantly, the mean phenotype of an inbred line can typically be measured with higher precision than for an outbred line.\n",
    "\n",
    "### Estimate the mean phenotype per genotype\n",
    "\n",
    "The speed of GWAS is affected by the sample size and the number of SNPs, as well as other factors. To speed up analyses, researchers working with repeated measures data (e.g. longitudinal analyses) or inbred lines often reduce the number of observations for each sample or individual. One approach, as illustrated in the previous notebook, is to simply average the phenotypic data per individual. However, this is not ideal (i.e. the errors propagate when analyzing the \"means of means\")."
   ]
  },
  {
   "cell_type": "code",
   "execution_count": 6,
   "metadata": {},
   "outputs": [
    {
     "name": "stdout",
     "output_type": "stream",
     "text": [
      "The distribution of the number of replicates per accession\n"
     ]
    },
    {
     "data": {
      "text/plain": [
       "counts\n",
       "  2   3   4   5   6   7   8 \n",
       "148 154 131  84  53  21   4 "
      ]
     },
     "metadata": {},
     "output_type": "display_data"
    }
   ],
   "source": [
    "# recall, there is more than one observation per inbred line\n",
    "counts <- table(glucs$accession_id);\n",
    "cat(\"The distribution of the number of replicates per accession\\n\");\n",
    "table(counts);\n",
    "\n",
    "# earlier, we visualized this as a barplot:\n",
    "# ggplot() + aes(counts) + \n",
    "#         xlab( paste0( \"The number of replicates\" )) + ylab(\"Counts\") +\n",
    "#         geom_bar(stat=\"count\", fill=\"tan1\") + \n",
    "#         geom_vline(aes(xintercept=mean(counts)), linetype=3);"
   ]
  },
  {
   "cell_type": "markdown",
   "metadata": {},
   "source": [
    "But how should we extract the mean phenotype per individual?\n",
    "\n",
    "Recall that, earlier, we used linear mixed models to fit BLUPs:"
   ]
  },
  {
   "cell_type": "code",
   "execution_count": 7,
   "metadata": {},
   "outputs": [
    {
     "data": {
      "text/html": [
       "<table>\n",
       "<thead><tr><th scope=col>accession_id</th><th scope=col>linear_blup</th></tr></thead>\n",
       "<tbody>\n",
       "\t<tr><td>1        </td><td>-5271.448</td></tr>\n",
       "\t<tr><td>2        </td><td>-8390.965</td></tr>\n",
       "\t<tr><td>4        </td><td>-8618.790</td></tr>\n",
       "\t<tr><td>6        </td><td>-9610.424</td></tr>\n",
       "\t<tr><td>7        </td><td>-7955.538</td></tr>\n",
       "\t<tr><td>8        </td><td>-9497.424</td></tr>\n",
       "</tbody>\n",
       "</table>\n"
      ],
      "text/latex": [
       "\\begin{tabular}{r|ll}\n",
       " accession\\_id & linear\\_blup\\\\\n",
       "\\hline\n",
       "\t 1         & -5271.448\\\\\n",
       "\t 2         & -8390.965\\\\\n",
       "\t 4         & -8618.790\\\\\n",
       "\t 6         & -9610.424\\\\\n",
       "\t 7         & -7955.538\\\\\n",
       "\t 8         & -9497.424\\\\\n",
       "\\end{tabular}\n"
      ],
      "text/markdown": [
       "\n",
       "accession_id | linear_blup | \n",
       "|---|---|---|---|---|---|\n",
       "| 1         | -5271.448 | \n",
       "| 2         | -8390.965 | \n",
       "| 4         | -8618.790 | \n",
       "| 6         | -9610.424 | \n",
       "| 7         | -7955.538 | \n",
       "| 8         | -9497.424 | \n",
       "\n",
       "\n"
      ],
      "text/plain": [
       "  accession_id linear_blup\n",
       "1 1            -5271.448  \n",
       "2 2            -8390.965  \n",
       "3 4            -8618.790  \n",
       "4 6            -9610.424  \n",
       "5 7            -7955.538  \n",
       "6 8            -9497.424  "
      ]
     },
     "metadata": {},
     "output_type": "display_data"
    }
   ],
   "source": [
    "# previously, we used a mixed model to specify a random effect with the following code:\n",
    "lmer0 <- lmer( G2P ~ 1 + (1|accession_id), data=glucs );\n",
    "linearBlups <- ranef(lmer0)$accession_id; # these are the best-linear unbiased predictors:\n",
    "linearBlups <- data.frame( accession_id=rownames(linearBlups), linear_blup=linearBlups[,1], stringsAsFactors=FALSE );\n",
    "head(linearBlups);"
   ]
  },
  {
   "cell_type": "markdown",
   "metadata": {},
   "source": [
    "This is a standard approach with mixed models. However, you'll remember that these are not really *normally distributed* data.\n",
    "\n",
    "Indeed, a lot of the data that biologists work with are non-normal (e.g.):\n",
    "  - number of offspring \n",
    "  - infection rates\n",
    "  - survival/death\n",
    "  - gene expression data\n",
    "  - metabolomic data\n",
    "\n",
    "In general, it is appropriate to analyze such data with generalized linear models (or GLMs). In the case of *count* data, it is typical to use *Poisson* (or Poisson-family) models. An easy rule-of-thumb to remember is that if the data are all non-negative integers, with no natural upper bound, then the Poisson-family models should be used.\n",
    "\n",
    "\n",
    "<!--# however, these are count data (see the output from head above), which suggests \n",
    "# that a Poisson-family model should be used; let's try a simple quasi-Poisson GLM:\n",
    "glm0 <- glm( G2P ~ 1, data=glucs, family=\"quasipoisson\" );\n",
    "glm0.res <- residuals( glm0 );\n",
    "glm0.res[1:10];\n",
    "\n",
    "# note: the names are no longer the accession Ids, but the row names from the glucs data frame. Do you know why?\n",
    "# let's use a workaround:\n",
    "################################################################################\n",
    "## my version of stack, which avoids factor generation\n",
    "################################################################################\n",
    "mstack <- function(arg, newHeaders, setRowNames=T, sorted=TRUE, decreasing=F){\n",
    "    values <- data.frame(names=I(names(arg)), values=as.numeric(arg));\n",
    "\n",
    "    if( setRowNames ){\n",
    "        rownames(values) <- values[,\"names\"];\n",
    "    }\n",
    "    \n",
    "    if( sorted ) {\n",
    "        values <- values[order(values[,\"values\"], decreasing=decreasing),];\t\n",
    "    }\n",
    "    \n",
    "    colnames(values) <- newHeaders;\n",
    "    return(values);\n",
    "}\n",
    "\n",
    "glm0.res <- mstack( glm0.res, newHeaders=c(\"row_id\", \"residual\"), sorted=FALSE );\n",
    "head(glm0.res);-->"
   ]
  },
  {
   "cell_type": "code",
   "execution_count": 8,
   "metadata": {},
   "outputs": [
    {
     "data": {
      "text/html": [
       "<table>\n",
       "<thead><tr><th></th><th scope=col>accession_id</th><th scope=col>sample_weight</th><th scope=col>G2P</th><th scope=col>G3B</th><th scope=col>G3HP</th><th scope=col>G4P</th><th scope=col>G2H3B</th><th scope=col>G4HB</th><th scope=col>G2H4P</th><th scope=col>G3MTP</th><th scope=col>⋯</th><th scope=col>G6MTH</th><th scope=col>G5MSP</th><th scope=col>G7MTH</th><th scope=col>G6MSH</th><th scope=col>G8MTO</th><th scope=col>G7MSH</th><th scope=col>G3BOP</th><th scope=col>G8MSO</th><th scope=col>G4BOB</th><th scope=col>G5BOP</th></tr></thead>\n",
       "<tbody>\n",
       "\t<tr><th scope=row>892</th><td>1     </td><td>27.0  </td><td>1391  </td><td>103709</td><td> 36   </td><td>5248  </td><td>25310 </td><td> 0    </td><td> 656  </td><td>0     </td><td>⋯     </td><td>3611  </td><td> 32   </td><td>2951  </td><td>  96  </td><td> 8244 </td><td> 2142 </td><td> 0    </td><td> 23523</td><td>1424  </td><td>   0  </td></tr>\n",
       "\t<tr><th scope=row>1692</th><td>1     </td><td>22.1  </td><td>7735  </td><td> 69932</td><td>  0   </td><td>2501  </td><td>24289 </td><td> 0    </td><td> 390  </td><td>0     </td><td>⋯     </td><td> 117  </td><td> 56   </td><td>   0  </td><td> 248  </td><td>    0 </td><td> 1401 </td><td>68    </td><td> 27463</td><td>1789  </td><td> 921  </td></tr>\n",
       "\t<tr><th scope=row>683</th><td>2     </td><td>15.2  </td><td>8268  </td><td>144750</td><td>202   </td><td>5546  </td><td>78818 </td><td> 7    </td><td>1967  </td><td>0     </td><td>⋯     </td><td> 412  </td><td> 77   </td><td>   0  </td><td>1017  </td><td>    0 </td><td>11407 </td><td> 0    </td><td>102817</td><td>8170  </td><td>3357  </td></tr>\n",
       "\t<tr><th scope=row>870</th><td>2     </td><td>29.9  </td><td>1411  </td><td> 27740</td><td>  0   </td><td> 117  </td><td>24818 </td><td> 0    </td><td> 435  </td><td>0     </td><td>⋯     </td><td>2256  </td><td>  0   </td><td>  47  </td><td>   0  </td><td>  577 </td><td>  390 </td><td> 0    </td><td>  7644</td><td> 285  </td><td>   0  </td></tr>\n",
       "\t<tr><th scope=row>887</th><td>2     </td><td>31.0  </td><td>1055  </td><td> 82118</td><td> 89   </td><td>2590  </td><td>29056 </td><td>32    </td><td>1214  </td><td>0     </td><td>⋯     </td><td>8807  </td><td>228   </td><td>3107  </td><td> 429  </td><td>18943 </td><td> 2914 </td><td> 0    </td><td> 36178</td><td>2611  </td><td>  62  </td></tr>\n",
       "</tbody>\n",
       "</table>\n"
      ],
      "text/latex": [
       "\\begin{tabular}{r|llllllllllllllllllllllll}\n",
       "  & accession\\_id & sample\\_weight & G2P & G3B & G3HP & G4P & G2H3B & G4HB & G2H4P & G3MTP & ⋯ & G6MTH & G5MSP & G7MTH & G6MSH & G8MTO & G7MSH & G3BOP & G8MSO & G4BOB & G5BOP\\\\\n",
       "\\hline\n",
       "\t892 & 1      & 27.0   & 1391   & 103709 &  36    & 5248   & 25310  &  0     &  656   & 0      & ⋯      & 3611   &  32    & 2951   &   96   &  8244  &  2142  &  0     &  23523 & 1424   &    0  \\\\\n",
       "\t1692 & 1      & 22.1   & 7735   &  69932 &   0    & 2501   & 24289  &  0     &  390   & 0      & ⋯      &  117   &  56    &    0   &  248   &     0  &  1401  & 68     &  27463 & 1789   &  921  \\\\\n",
       "\t683 & 2      & 15.2   & 8268   & 144750 & 202    & 5546   & 78818  &  7     & 1967   & 0      & ⋯      &  412   &  77    &    0   & 1017   &     0  & 11407  &  0     & 102817 & 8170   & 3357  \\\\\n",
       "\t870 & 2      & 29.9   & 1411   &  27740 &   0    &  117   & 24818  &  0     &  435   & 0      & ⋯      & 2256   &   0    &   47   &    0   &   577  &   390  &  0     &   7644 &  285   &    0  \\\\\n",
       "\t887 & 2      & 31.0   & 1055   &  82118 &  89    & 2590   & 29056  & 32     & 1214   & 0      & ⋯      & 8807   & 228    & 3107   &  429   & 18943  &  2914  &  0     &  36178 & 2611   &   62  \\\\\n",
       "\\end{tabular}\n"
      ],
      "text/markdown": [
       "\n",
       "| <!--/--> | accession_id | sample_weight | G2P | G3B | G3HP | G4P | G2H3B | G4HB | G2H4P | G3MTP | ⋯ | G6MTH | G5MSP | G7MTH | G6MSH | G8MTO | G7MSH | G3BOP | G8MSO | G4BOB | G5BOP | \n",
       "|---|---|---|---|---|\n",
       "| 892 | 1      | 27.0   | 1391   | 103709 |  36    | 5248   | 25310  |  0     |  656   | 0      | ⋯      | 3611   |  32    | 2951   |   96   |  8244  |  2142  |  0     |  23523 | 1424   |    0   | \n",
       "| 1692 | 1      | 22.1   | 7735   |  69932 |   0    | 2501   | 24289  |  0     |  390   | 0      | ⋯      |  117   |  56    |    0   |  248   |     0  |  1401  | 68     |  27463 | 1789   |  921   | \n",
       "| 683 | 2      | 15.2   | 8268   | 144750 | 202    | 5546   | 78818  |  7     | 1967   | 0      | ⋯      |  412   |  77    |    0   | 1017   |     0  | 11407  |  0     | 102817 | 8170   | 3357   | \n",
       "| 870 | 2      | 29.9   | 1411   |  27740 |   0    |  117   | 24818  |  0     |  435   | 0      | ⋯      | 2256   |   0    |   47   |    0   |   577  |   390  |  0     |   7644 |  285   |    0   | \n",
       "| 887 | 2      | 31.0   | 1055   |  82118 |  89    | 2590   | 29056  | 32     | 1214   | 0      | ⋯      | 8807   | 228    | 3107   |  429   | 18943  |  2914  |  0     |  36178 | 2611   |   62   | \n",
       "\n",
       "\n"
      ],
      "text/plain": [
       "     accession_id sample_weight G2P  G3B    G3HP G4P  G2H3B G4HB G2H4P G3MTP ⋯\n",
       "892  1            27.0          1391 103709  36  5248 25310  0    656  0     ⋯\n",
       "1692 1            22.1          7735  69932   0  2501 24289  0    390  0     ⋯\n",
       "683  2            15.2          8268 144750 202  5546 78818  7   1967  0     ⋯\n",
       "870  2            29.9          1411  27740   0   117 24818  0    435  0     ⋯\n",
       "887  2            31.0          1055  82118  89  2590 29056 32   1214  0     ⋯\n",
       "     G6MTH G5MSP G7MTH G6MSH G8MTO G7MSH G3BOP G8MSO  G4BOB G5BOP\n",
       "892  3611   32   2951    96   8244  2142  0     23523 1424     0 \n",
       "1692  117   56      0   248      0  1401 68     27463 1789   921 \n",
       "683   412   77      0  1017      0 11407  0    102817 8170  3357 \n",
       "870  2256    0     47     0    577   390  0      7644  285     0 \n",
       "887  8807  228   3107   429  18943  2914  0     36178 2611    62 "
      ]
     },
     "metadata": {},
     "output_type": "display_data"
    }
   ],
   "source": [
    "# the estimates from Meyer et al., however, are areas estimated under the curve, from a QQQ Mass spectrometer.\n",
    "# these can be rounded without a loss of precision \n",
    "glucs[,3:ncol(glucs)] <- round(glucs[,3:ncol(glucs)]);\n",
    "glucs[1:5,];"
   ]
  },
  {
   "cell_type": "code",
   "execution_count": 9,
   "metadata": {},
   "outputs": [
    {
     "data": {
      "text/html": [
       "<table>\n",
       "<thead><tr><th scope=col>accession_id</th><th scope=col>pois_blup</th></tr></thead>\n",
       "<tbody>\n",
       "\t<tr><td>1           </td><td> 0.229793162</td></tr>\n",
       "\t<tr><td>2           </td><td>-0.214801548</td></tr>\n",
       "\t<tr><td>4           </td><td>-1.864293949</td></tr>\n",
       "\t<tr><td>6           </td><td>-1.431712033</td></tr>\n",
       "\t<tr><td>7           </td><td> 0.009484085</td></tr>\n",
       "\t<tr><td>8           </td><td>-1.232474893</td></tr>\n",
       "</tbody>\n",
       "</table>\n"
      ],
      "text/latex": [
       "\\begin{tabular}{r|ll}\n",
       " accession\\_id & pois\\_blup\\\\\n",
       "\\hline\n",
       "\t 1            &  0.229793162\\\\\n",
       "\t 2            & -0.214801548\\\\\n",
       "\t 4            & -1.864293949\\\\\n",
       "\t 6            & -1.431712033\\\\\n",
       "\t 7            &  0.009484085\\\\\n",
       "\t 8            & -1.232474893\\\\\n",
       "\\end{tabular}\n"
      ],
      "text/markdown": [
       "\n",
       "accession_id | pois_blup | \n",
       "|---|---|---|---|---|---|\n",
       "| 1            |  0.229793162 | \n",
       "| 2            | -0.214801548 | \n",
       "| 4            | -1.864293949 | \n",
       "| 6            | -1.431712033 | \n",
       "| 7            |  0.009484085 | \n",
       "| 8            | -1.232474893 | \n",
       "\n",
       "\n"
      ],
      "text/plain": [
       "  accession_id pois_blup   \n",
       "1 1             0.229793162\n",
       "2 2            -0.214801548\n",
       "3 4            -1.864293949\n",
       "4 6            -1.431712033\n",
       "5 7             0.009484085\n",
       "6 8            -1.232474893"
      ]
     },
     "metadata": {},
     "output_type": "display_data"
    }
   ],
   "source": [
    "# now, these integers can be fit with GLMs/GLMMs:\n",
    "glmer0 <- glmer( G2P ~ 1 + (1|accession_id), data=glucs, family=\"poisson\" );\n",
    "glmBlups <- ranef(glmer0)$accession_id; # these are the best-linear unbiased predictors:\n",
    "glmBlups <- data.frame( accession_id=rownames(glmBlups), pois_blup=glmBlups[,1], stringsAsFactors=FALSE );\n",
    "head(glmBlups);"
   ]
  },
  {
   "cell_type": "markdown",
   "metadata": {},
   "source": [
    "For poisson/negative binomial GLMs the distribution of these random effects (or residuals, if a GLM is used) will tend to be skewed, which is to be expected. For larger counts (and larger $\\lambda$) the residuals will tend to normality.\n",
    "\n",
    "### Poisson-family models allow offsets\n",
    "\n",
    "When the counts from a Poisson process should be modeled as a rate, then an offset should be included in the model. Specifying an exposure will thus enable you to express the count data as a function of the *effort* that was necessary to collect the data. For example, if you detect 25,000 counts for G2P in a sample with a high background on a mass spec (the instrument that Meyer et al., used to measure glucosinolates), then you should take that higher *ion count* into **account** when comparing that sample with samples that have less of a background. \n",
    "\n",
    "As another example, if two botanists count the number of species at the botanical gardens and one botanist spends 24 hours counting species and the other 72 hours (assuming the same skill level), then you would typically expect the second botanist to count **more species**, given the extra effort.\n",
    "\n",
    "But how do you specify an offset?"
   ]
  },
  {
   "cell_type": "code",
   "execution_count": 10,
   "metadata": {},
   "outputs": [
    {
     "data": {
      "text/html": [
       "<dl class=dl-horizontal>\n",
       "\t<dt>892</dt>\n",
       "\t\t<dd>178695</dd>\n",
       "\t<dt>1692</dt>\n",
       "\t\t<dd>136979</dd>\n",
       "\t<dt>683</dt>\n",
       "\t\t<dd>366902</dd>\n",
       "\t<dt>870</dt>\n",
       "\t\t<dd>65720</dd>\n",
       "\t<dt>887</dt>\n",
       "\t\t<dd>189859</dd>\n",
       "\t<dt>973</dt>\n",
       "\t\t<dd>75467</dd>\n",
       "</dl>\n"
      ],
      "text/latex": [
       "\\begin{description*}\n",
       "\\item[892] 178695\n",
       "\\item[1692] 136979\n",
       "\\item[683] 366902\n",
       "\\item[870] 65720\n",
       "\\item[887] 189859\n",
       "\\item[973] 75467\n",
       "\\end{description*}\n"
      ],
      "text/markdown": [
       "892\n",
       ":   1786951692\n",
       ":   136979683\n",
       ":   366902870\n",
       ":   65720887\n",
       ":   189859973\n",
       ":   75467\n",
       "\n"
      ],
      "text/plain": [
       "   892   1692    683    870    887    973 \n",
       "178695 136979 366902  65720 189859  75467 "
      ]
     },
     "metadata": {},
     "output_type": "display_data"
    }
   ],
   "source": [
    "# determine the total ion count\n",
    "totalIonCounts <- rowSums( glucs[,-c(1,2)] );\n",
    "head(totalIonCounts);"
   ]
  },
  {
   "cell_type": "code",
   "execution_count": 11,
   "metadata": {},
   "outputs": [
    {
     "ename": "ERROR",
     "evalue": "Error in glm(G2P ~ 1, offset(log(totalIonCounts)), data = glucs, family = \"quasipoisson\"): negative weights not allowed\n",
     "output_type": "error",
     "traceback": [
      "Error in glm(G2P ~ 1, offset(log(totalIonCounts)), data = glucs, family = \"quasipoisson\"): negative weights not allowed\nTraceback:\n",
      "1. glm(G2P ~ 1, offset(log(totalIonCounts)), data = glucs, family = \"quasipoisson\")",
      "2. stop(\"negative weights not allowed\")"
     ]
    }
   ],
   "source": [
    "# now include the total ion count as an offset\n",
    "# if neither df has been sorted, you can immediately add it to the model without merging with the original df\n",
    "glm0 <- glm( G2P ~ 1, offset(log(totalIonCounts)), data=glucs, family=\"quasipoisson\");"
   ]
  },
  {
   "cell_type": "markdown",
   "metadata": {},
   "source": [
    "Wait a minute, negative weight? The only weighting comes from the offset, which is expressed as a log in Poisson-family models."
   ]
  },
  {
   "cell_type": "code",
   "execution_count": 12,
   "metadata": {},
   "outputs": [
    {
     "data": {
      "text/html": [
       "<dl class=dl-horizontal>\n",
       "\t<dt>406</dt>\n",
       "\t\t<dd>1407</dd>\n",
       "\t<dt>628</dt>\n",
       "\t\t<dd>1429</dd>\n",
       "\t<dt>649</dt>\n",
       "\t\t<dd>1447</dd>\n",
       "\t<dt>630</dt>\n",
       "\t\t<dd>1501</dd>\n",
       "\t<dt>126</dt>\n",
       "\t\t<dd>1732</dd>\n",
       "</dl>\n"
      ],
      "text/latex": [
       "\\begin{description*}\n",
       "\\item[406] 1407\n",
       "\\item[628] 1429\n",
       "\\item[649] 1447\n",
       "\\item[630] 1501\n",
       "\\item[126] 1732\n",
       "\\end{description*}\n"
      ],
      "text/markdown": [
       "406\n",
       ":   1407628\n",
       ":   1429649\n",
       ":   1447630\n",
       ":   1501126\n",
       ":   1732\n",
       "\n"
      ],
      "text/plain": [
       " 406  628  649  630  126 \n",
       "1407 1429 1447 1501 1732 "
      ]
     },
     "metadata": {},
     "output_type": "display_data"
    },
    {
     "data": {
      "text/html": [
       "<dl class=dl-horizontal>\n",
       "\t<dt>406</dt>\n",
       "\t\t<dd>1407</dd>\n",
       "\t<dt>628</dt>\n",
       "\t\t<dd>1429</dd>\n",
       "\t<dt>649</dt>\n",
       "\t\t<dd>1447</dd>\n",
       "\t<dt>630</dt>\n",
       "\t\t<dd>1501</dd>\n",
       "\t<dt>126</dt>\n",
       "\t\t<dd>1732</dd>\n",
       "</dl>\n"
      ],
      "text/latex": [
       "\\begin{description*}\n",
       "\\item[406] 1407\n",
       "\\item[628] 1429\n",
       "\\item[649] 1447\n",
       "\\item[630] 1501\n",
       "\\item[126] 1732\n",
       "\\end{description*}\n"
      ],
      "text/markdown": [
       "406\n",
       ":   1407628\n",
       ":   1429649\n",
       ":   1447630\n",
       ":   1501126\n",
       ":   1732\n",
       "\n"
      ],
      "text/plain": [
       " 406  628  649  630  126 \n",
       "1407 1429 1447 1501 1732 "
      ]
     },
     "metadata": {},
     "output_type": "display_data"
    }
   ],
   "source": [
    "which(log(totalIonCounts) < 0);\n",
    "which(totalIonCounts == 0);"
   ]
  },
  {
   "cell_type": "markdown",
   "metadata": {},
   "source": [
    "### Quality control (data curation) is an ongoing process\n",
    "\n",
    "There are samples in the data that have *no* ion counts. If this wasn't a simple mistake during data collection (e.g. failing to input the data into the file), then the samples could be rerun or dropped. We have a lot of data, so let's drop them."
   ]
  },
  {
   "cell_type": "code",
   "execution_count": 13,
   "metadata": {},
   "outputs": [
    {
     "data": {
      "text/html": [
       "<ol class=list-inline>\n",
       "\t<li>2194</li>\n",
       "\t<li>24</li>\n",
       "</ol>\n"
      ],
      "text/latex": [
       "\\begin{enumerate*}\n",
       "\\item 2194\n",
       "\\item 24\n",
       "\\end{enumerate*}\n"
      ],
      "text/markdown": [
       "1. 2194\n",
       "2. 24\n",
       "\n",
       "\n"
      ],
      "text/plain": [
       "[1] 2194   24"
      ]
     },
     "metadata": {},
     "output_type": "display_data"
    },
    {
     "name": "stdout",
     "output_type": "stream",
     "text": [
      "The range of ion counts is now: 20 366902 \n"
     ]
    }
   ],
   "source": [
    "dropouts <- which( totalIonCounts == 0 );\n",
    "glucs2 <- glucs[-dropouts,];\n",
    "dim(glucs2);\n",
    "\n",
    "totalIonCounts <- rowSums( glucs2[,-c(1,2)] );\n",
    "cat(\"The range of ion counts is now:\", range(totalIonCounts), \"\\n\");"
   ]
  },
  {
   "cell_type": "code",
   "execution_count": 21,
   "metadata": {
    "scrolled": true
   },
   "outputs": [
    {
     "data": {
      "text/html": [
       "<table>\n",
       "<thead><tr><th></th><th scope=col>accession_id</th><th scope=col>pois_blup</th></tr></thead>\n",
       "<tbody>\n",
       "\t<tr><th scope=row>590</th><td>9482     </td><td> 1.543241</td></tr>\n",
       "\t<tr><th scope=row>591</th><td>9490     </td><td>-3.827460</td></tr>\n",
       "\t<tr><th scope=row>592</th><td>9496     </td><td>-3.182933</td></tr>\n",
       "\t<tr><th scope=row>593</th><td>9499     </td><td>-1.803268</td></tr>\n",
       "\t<tr><th scope=row>594</th><td>9504     </td><td>-3.298541</td></tr>\n",
       "\t<tr><th scope=row>595</th><td>100000   </td><td>-1.102997</td></tr>\n",
       "</tbody>\n",
       "</table>\n"
      ],
      "text/latex": [
       "\\begin{tabular}{r|ll}\n",
       "  & accession\\_id & pois\\_blup\\\\\n",
       "\\hline\n",
       "\t590 & 9482      &  1.543241\\\\\n",
       "\t591 & 9490      & -3.827460\\\\\n",
       "\t592 & 9496      & -3.182933\\\\\n",
       "\t593 & 9499      & -1.803268\\\\\n",
       "\t594 & 9504      & -3.298541\\\\\n",
       "\t595 & 100000    & -1.102997\\\\\n",
       "\\end{tabular}\n"
      ],
      "text/markdown": [
       "\n",
       "| <!--/--> | accession_id | pois_blup | \n",
       "|---|---|---|---|---|---|\n",
       "| 590 | 9482      |  1.543241 | \n",
       "| 591 | 9490      | -3.827460 | \n",
       "| 592 | 9496      | -3.182933 | \n",
       "| 593 | 9499      | -1.803268 | \n",
       "| 594 | 9504      | -3.298541 | \n",
       "| 595 | 100000    | -1.102997 | \n",
       "\n",
       "\n"
      ],
      "text/plain": [
       "    accession_id pois_blup\n",
       "590 9482          1.543241\n",
       "591 9490         -3.827460\n",
       "592 9496         -3.182933\n",
       "593 9499         -1.803268\n",
       "594 9504         -3.298541\n",
       "595 100000       -1.102997"
      ]
     },
     "metadata": {},
     "output_type": "display_data"
    }
   ],
   "source": [
    "# 20 is a small number, but the advantage of adding an offset is \n",
    "# that you can include as much data as possible, and let the model weight things appropriately\n",
    "# glm0 <- glm( G2P ~ 1, offset(log(totalIonCounts)), data=glucs2, family=\"quasipoisson\");\n",
    "# summary(glm0);\n",
    "\n",
    "glmer0 <- glmer( G2P ~ 1 + offset(log(totalIonCounts)) + (1|accession_id), data=glucs2, control=glmerControl(optimizer=\"bobyqa\", optCtrl=list(maxfun=2e5)), family=\"poisson\" );\n",
    "glmBlups <- ranef(glmer0)$accession_id; # these are the best-linear unbiased predictors:\n",
    "glmBlups <- data.frame( accession_id=rownames(glmBlups), pois_blup=glmBlups[,1], stringsAsFactors=FALSE );\n",
    "tail(glmBlups);"
   ]
  },
  {
   "cell_type": "code",
   "execution_count": null,
   "metadata": {},
   "outputs": [],
   "source": []
  }
 ],
 "metadata": {
  "kernelspec": {
   "display_name": "R",
   "language": "R",
   "name": "ir"
  },
  "language_info": {
   "codemirror_mode": "r",
   "file_extension": ".r",
   "mimetype": "text/x-r-source",
   "name": "R",
   "pygments_lexer": "r",
   "version": "3.4.3"
  }
 },
 "nbformat": 4,
 "nbformat_minor": 4
}
