{
 "cells": [
  {
   "cell_type": "markdown",
   "metadata": {},
   "source": [
    "## Introduction\n",
    "\n",
    "The first step in any analysis is to review the data that will be analyzed. Large datasets typically contain missing data, data errors (e.g. due to an error during measurement or data entry), or entries that violate statistical assumptions (so-called outliers). \n",
    "\n",
    "To put that another way, during data review you need to assess whether the data need to be cleaned *before* analysis (e.g. review the metadata, including the collection date, mass, or other covarites), and whether the data follow traditional statistical assumptions, including normality.\n",
    "\n",
    "In this notebook, we will review data preprocessing steps that are common in bioinformatics. To do so, we will use the statistical computing environment *R*.\n",
    "\n",
    "### Download the test data\n",
    "\n",
    "To practice data preprocessing techniques, let's use [publicly available](http://www.pnas.org/content/112/13/4032) glucosinolate data. The formatted data can be downloaded here:\n",
    "\n",
    "curl https://raw.githubusercontent.com/timeu/gwas-lecture/master/data/cmeyer_glucs2015/bmeyer_etal.txt --create-dirs --output data/cmeyer_glucs2015/bmeyer_etal.txt\n",
    "\n",
    "### Check the file format\n",
    "\n",
    "Before importing data, it is always important to review the file format. Is it a text file? Is it an hdf5 file? Does to need to be transposed?\n",
    "\n",
    "- If it is a text file:\n",
    "  - What delimiter was used to make the file? \n",
    "  - What character set was used?   (see the command *iconv*)\n",
    "  - What carriage return was used? (see the command *dos2unix*)\n",
    "  - Are there spaces or unexpected characters in the header? (see vim/emacs)\n",
    "  - Are there quotes or comment characters that will interrupt the import?\n",
    "\n",
    "- If it is an hdf5 file:\n",
    "  - What are the keys?\n",
    "  \n",
    "### Load the glucosinolate data"
   ]
  },
  {
   "cell_type": "code",
   "execution_count": 1,
   "metadata": {},
   "outputs": [],
   "source": [
    "# rm(list=ls());\n",
    "# open the glucosinolate file in R\n",
    "\n",
    "glucosinolateFileName <- \"data/cmeyer_glucs2015/bmeyer_etal.txt\";  \n",
    "glucs <- read.table(glucosinolateFileName, header=T, sep=\"\\t\", as.is=T, stringsAsFactors=FALSE);  \n",
    "glucs <- glucs[order(glucs[,\"accession_id\"]),];"
   ]
  },
  {
   "cell_type": "code",
   "execution_count": 2,
   "metadata": {},
   "outputs": [
    {
     "data": {
      "text/html": [
       "<ol class=list-inline>\n",
       "\t<li>'glucosinolateFileName'</li>\n",
       "\t<li>'glucs'</li>\n",
       "</ol>\n"
      ],
      "text/latex": [
       "\\begin{enumerate*}\n",
       "\\item 'glucosinolateFileName'\n",
       "\\item 'glucs'\n",
       "\\end{enumerate*}\n"
      ],
      "text/markdown": [
       "1. 'glucosinolateFileName'\n",
       "2. 'glucs'\n",
       "\n",
       "\n"
      ],
      "text/plain": [
       "[1] \"glucosinolateFileName\" \"glucs\"                "
      ]
     },
     "metadata": {},
     "output_type": "display_data"
    }
   ],
   "source": [
    "# what's in the working environment?\n",
    "ls(); "
   ]
  },
  {
   "cell_type": "code",
   "execution_count": 3,
   "metadata": {},
   "outputs": [],
   "source": [
    "# nb: this is a working R environment\n",
    "# to learn the syntax of an argument, use the question mark followed by the command line\n",
    "# ?head"
   ]
  },
  {
   "cell_type": "code",
   "execution_count": 4,
   "metadata": {},
   "outputs": [],
   "source": [
    "# str(glucs);"
   ]
  },
  {
   "cell_type": "code",
   "execution_count": 5,
   "metadata": {},
   "outputs": [
    {
     "data": {
      "text/html": [
       "<table>\n",
       "<thead><tr><th></th><th scope=col>accession_id</th><th scope=col>sample_weight</th><th scope=col>G2P</th><th scope=col>G3B</th><th scope=col>G3HP</th><th scope=col>G4P</th><th scope=col>G2H3B</th><th scope=col>G4HB</th><th scope=col>G2H4P</th><th scope=col>G3MTP</th><th scope=col>⋯</th><th scope=col>G6MTH</th><th scope=col>G5MSP</th><th scope=col>G7MTH</th><th scope=col>G6MSH</th><th scope=col>G8MTO</th><th scope=col>G7MSH</th><th scope=col>G3BOP</th><th scope=col>G8MSO</th><th scope=col>G4BOB</th><th scope=col>G5BOP</th></tr></thead>\n",
       "<tbody>\n",
       "\t<tr><th scope=row>892</th><td>1         </td><td>27.0      </td><td>1391.3143 </td><td>103708.84 </td><td> 35.89132 </td><td>5248.4694 </td><td>25310.19  </td><td> 0.000000 </td><td> 656.2984 </td><td>0         </td><td>⋯         </td><td>3611.0269 </td><td> 32.32934 </td><td>2951.46171</td><td>  96.03157</td><td> 8243.8638</td><td> 2142.1924</td><td> 0.00000  </td><td> 23523.238</td><td>1424.3284 </td><td>   0.00000</td></tr>\n",
       "\t<tr><th scope=row>1692</th><td>1         </td><td>22.1      </td><td>7734.5149 </td><td> 69932.37 </td><td>  0.00000 </td><td>2500.7568 </td><td>24289.34  </td><td> 0.000000 </td><td> 390.3385 </td><td>0         </td><td>⋯         </td><td> 116.8998 </td><td> 56.07342 </td><td>   0.00000</td><td> 247.84098</td><td>    0.0000</td><td> 1401.4957</td><td>67.66343  </td><td> 27462.923</td><td>1789.0852 </td><td> 920.67350</td></tr>\n",
       "\t<tr><th scope=row>683</th><td>2         </td><td>15.2      </td><td>8267.7205 </td><td>144750.06 </td><td>202.10448 </td><td>5545.6431 </td><td>78817.75  </td><td> 7.136438 </td><td>1966.7867 </td><td>0         </td><td>⋯         </td><td> 411.9168 </td><td> 76.65779 </td><td>   0.00000</td><td>1016.59783</td><td>    0.0000</td><td>11407.0228</td><td> 0.00000  </td><td>102816.760</td><td>8169.7092 </td><td>3357.24848</td></tr>\n",
       "\t<tr><th scope=row>870</th><td>2         </td><td>29.9      </td><td>1411.4871 </td><td> 27739.70 </td><td>  0.00000 </td><td> 116.5999 </td><td>24817.58  </td><td> 0.000000 </td><td> 435.3465 </td><td>0         </td><td>⋯         </td><td>2256.3011 </td><td>  0.00000 </td><td>  46.88039</td><td>   0.00000</td><td>  577.0562</td><td>  389.6314</td><td> 0.00000  </td><td>  7644.041</td><td> 284.5212 </td><td>   0.00000</td></tr>\n",
       "\t<tr><th scope=row>887</th><td>2         </td><td>31.0      </td><td>1055.4795 </td><td> 82117.61 </td><td> 88.72688 </td><td>2589.5366 </td><td>29056.36  </td><td>32.245193 </td><td>1213.7386 </td><td>0         </td><td>⋯         </td><td>8806.8255 </td><td>227.51344 </td><td>3107.01884</td><td> 428.95742</td><td>18943.1403</td><td> 2913.7202</td><td> 0.00000  </td><td> 36178.023</td><td>2610.6636 </td><td>  61.77065</td></tr>\n",
       "\t<tr><th scope=row>973</th><td>2         </td><td>30.9      </td><td> 967.1328 </td><td> 38721.42 </td><td>  0.00000 </td><td> 880.6843 </td><td>17378.24  </td><td>34.532081 </td><td> 391.1320 </td><td>0         </td><td>⋯         </td><td>2292.2790 </td><td>  0.00000 </td><td> 810.27345</td><td>  93.65825</td><td> 2614.6889</td><td>  970.8893</td><td> 0.00000  </td><td>  9763.230</td><td> 493.1664 </td><td>   0.00000</td></tr>\n",
       "</tbody>\n",
       "</table>\n"
      ],
      "text/latex": [
       "\\begin{tabular}{r|llllllllllllllllllllllll}\n",
       "  & accession\\_id & sample\\_weight & G2P & G3B & G3HP & G4P & G2H3B & G4HB & G2H4P & G3MTP & ⋯ & G6MTH & G5MSP & G7MTH & G6MSH & G8MTO & G7MSH & G3BOP & G8MSO & G4BOB & G5BOP\\\\\n",
       "\\hline\n",
       "\t892 & 1          & 27.0       & 1391.3143  & 103708.84  &  35.89132  & 5248.4694  & 25310.19   &  0.000000  &  656.2984  & 0          & ⋯          & 3611.0269  &  32.32934  & 2951.46171 &   96.03157 &  8243.8638 &  2142.1924 &  0.00000   &  23523.238 & 1424.3284  &    0.00000\\\\\n",
       "\t1692 & 1          & 22.1       & 7734.5149  &  69932.37  &   0.00000  & 2500.7568  & 24289.34   &  0.000000  &  390.3385  & 0          & ⋯          &  116.8998  &  56.07342  &    0.00000 &  247.84098 &     0.0000 &  1401.4957 & 67.66343   &  27462.923 & 1789.0852  &  920.67350\\\\\n",
       "\t683 & 2          & 15.2       & 8267.7205  & 144750.06  & 202.10448  & 5545.6431  & 78817.75   &  7.136438  & 1966.7867  & 0          & ⋯          &  411.9168  &  76.65779  &    0.00000 & 1016.59783 &     0.0000 & 11407.0228 &  0.00000   & 102816.760 & 8169.7092  & 3357.24848\\\\\n",
       "\t870 & 2          & 29.9       & 1411.4871  &  27739.70  &   0.00000  &  116.5999  & 24817.58   &  0.000000  &  435.3465  & 0          & ⋯          & 2256.3011  &   0.00000  &   46.88039 &    0.00000 &   577.0562 &   389.6314 &  0.00000   &   7644.041 &  284.5212  &    0.00000\\\\\n",
       "\t887 & 2          & 31.0       & 1055.4795  &  82117.61  &  88.72688  & 2589.5366  & 29056.36   & 32.245193  & 1213.7386  & 0          & ⋯          & 8806.8255  & 227.51344  & 3107.01884 &  428.95742 & 18943.1403 &  2913.7202 &  0.00000   &  36178.023 & 2610.6636  &   61.77065\\\\\n",
       "\t973 & 2          & 30.9       &  967.1328  &  38721.42  &   0.00000  &  880.6843  & 17378.24   & 34.532081  &  391.1320  & 0          & ⋯          & 2292.2790  &   0.00000  &  810.27345 &   93.65825 &  2614.6889 &   970.8893 &  0.00000   &   9763.230 &  493.1664  &    0.00000\\\\\n",
       "\\end{tabular}\n"
      ],
      "text/markdown": [
       "\n",
       "| <!--/--> | accession_id | sample_weight | G2P | G3B | G3HP | G4P | G2H3B | G4HB | G2H4P | G3MTP | ⋯ | G6MTH | G5MSP | G7MTH | G6MSH | G8MTO | G7MSH | G3BOP | G8MSO | G4BOB | G5BOP | \n",
       "|---|---|---|---|---|---|\n",
       "| 892 | 1          | 27.0       | 1391.3143  | 103708.84  |  35.89132  | 5248.4694  | 25310.19   |  0.000000  |  656.2984  | 0          | ⋯          | 3611.0269  |  32.32934  | 2951.46171 |   96.03157 |  8243.8638 |  2142.1924 |  0.00000   |  23523.238 | 1424.3284  |    0.00000 | \n",
       "| 1692 | 1          | 22.1       | 7734.5149  |  69932.37  |   0.00000  | 2500.7568  | 24289.34   |  0.000000  |  390.3385  | 0          | ⋯          |  116.8998  |  56.07342  |    0.00000 |  247.84098 |     0.0000 |  1401.4957 | 67.66343   |  27462.923 | 1789.0852  |  920.67350 | \n",
       "| 683 | 2          | 15.2       | 8267.7205  | 144750.06  | 202.10448  | 5545.6431  | 78817.75   |  7.136438  | 1966.7867  | 0          | ⋯          |  411.9168  |  76.65779  |    0.00000 | 1016.59783 |     0.0000 | 11407.0228 |  0.00000   | 102816.760 | 8169.7092  | 3357.24848 | \n",
       "| 870 | 2          | 29.9       | 1411.4871  |  27739.70  |   0.00000  |  116.5999  | 24817.58   |  0.000000  |  435.3465  | 0          | ⋯          | 2256.3011  |   0.00000  |   46.88039 |    0.00000 |   577.0562 |   389.6314 |  0.00000   |   7644.041 |  284.5212  |    0.00000 | \n",
       "| 887 | 2          | 31.0       | 1055.4795  |  82117.61  |  88.72688  | 2589.5366  | 29056.36   | 32.245193  | 1213.7386  | 0          | ⋯          | 8806.8255  | 227.51344  | 3107.01884 |  428.95742 | 18943.1403 |  2913.7202 |  0.00000   |  36178.023 | 2610.6636  |   61.77065 | \n",
       "| 973 | 2          | 30.9       |  967.1328  |  38721.42  |   0.00000  |  880.6843  | 17378.24   | 34.532081  |  391.1320  | 0          | ⋯          | 2292.2790  |   0.00000  |  810.27345 |   93.65825 |  2614.6889 |   970.8893 |  0.00000   |   9763.230 |  493.1664  |    0.00000 | \n",
       "\n",
       "\n"
      ],
      "text/plain": [
       "     accession_id sample_weight G2P       G3B       G3HP      G4P      \n",
       "892  1            27.0          1391.3143 103708.84  35.89132 5248.4694\n",
       "1692 1            22.1          7734.5149  69932.37   0.00000 2500.7568\n",
       "683  2            15.2          8267.7205 144750.06 202.10448 5545.6431\n",
       "870  2            29.9          1411.4871  27739.70   0.00000  116.5999\n",
       "887  2            31.0          1055.4795  82117.61  88.72688 2589.5366\n",
       "973  2            30.9           967.1328  38721.42   0.00000  880.6843\n",
       "     G2H3B    G4HB      G2H4P     G3MTP ⋯ G6MTH     G5MSP     G7MTH     \n",
       "892  25310.19  0.000000  656.2984 0     ⋯ 3611.0269  32.32934 2951.46171\n",
       "1692 24289.34  0.000000  390.3385 0     ⋯  116.8998  56.07342    0.00000\n",
       "683  78817.75  7.136438 1966.7867 0     ⋯  411.9168  76.65779    0.00000\n",
       "870  24817.58  0.000000  435.3465 0     ⋯ 2256.3011   0.00000   46.88039\n",
       "887  29056.36 32.245193 1213.7386 0     ⋯ 8806.8255 227.51344 3107.01884\n",
       "973  17378.24 34.532081  391.1320 0     ⋯ 2292.2790   0.00000  810.27345\n",
       "     G6MSH      G8MTO      G7MSH      G3BOP    G8MSO      G4BOB     G5BOP     \n",
       "892    96.03157  8243.8638  2142.1924  0.00000  23523.238 1424.3284    0.00000\n",
       "1692  247.84098     0.0000  1401.4957 67.66343  27462.923 1789.0852  920.67350\n",
       "683  1016.59783     0.0000 11407.0228  0.00000 102816.760 8169.7092 3357.24848\n",
       "870     0.00000   577.0562   389.6314  0.00000   7644.041  284.5212    0.00000\n",
       "887   428.95742 18943.1403  2913.7202  0.00000  36178.023 2610.6636   61.77065\n",
       "973    93.65825  2614.6889   970.8893  0.00000   9763.230  493.1664    0.00000"
      ]
     },
     "metadata": {},
     "output_type": "display_data"
    }
   ],
   "source": [
    "head(glucs);"
   ]
  },
  {
   "cell_type": "code",
   "execution_count": 6,
   "metadata": {},
   "outputs": [
    {
     "data": {
      "text/html": [
       "<ol class=list-inline>\n",
       "\t<li>2199</li>\n",
       "\t<li>24</li>\n",
       "</ol>\n"
      ],
      "text/latex": [
       "\\begin{enumerate*}\n",
       "\\item 2199\n",
       "\\item 24\n",
       "\\end{enumerate*}\n"
      ],
      "text/markdown": [
       "1. 2199\n",
       "2. 24\n",
       "\n",
       "\n"
      ],
      "text/plain": [
       "[1] 2199   24"
      ]
     },
     "metadata": {},
     "output_type": "display_data"
    },
    {
     "data": {
      "text/html": [
       "2199"
      ],
      "text/latex": [
       "2199"
      ],
      "text/markdown": [
       "2199"
      ],
      "text/plain": [
       "[1] 2199"
      ]
     },
     "metadata": {},
     "output_type": "display_data"
    },
    {
     "data": {
      "text/html": [
       "24"
      ],
      "text/latex": [
       "24"
      ],
      "text/markdown": [
       "24"
      ],
      "text/plain": [
       "[1] 24"
      ]
     },
     "metadata": {},
     "output_type": "display_data"
    }
   ],
   "source": [
    "# it's important to run sanity checks to ensure that you have loaded the entire dataset\n",
    "dim(glucs); # returns the dimensionality in row x column format\n",
    "nrow(glucs); # returns the number of rows\n",
    "ncol(glucs); # returns the number of columns\n",
    "\n",
    "# when you begin to write scripts, add comments so that \n",
    "# future readers (such as yourself) know what you were doing\n",
    "# the comment character in R is #"
   ]
  },
  {
   "cell_type": "code",
   "execution_count": 7,
   "metadata": {},
   "outputs": [
    {
     "name": "stdout",
     "output_type": "stream",
     "text": [
      "There are: 2199 rows and 24 columns in the dataset.\n",
      "There are: 0 missing data (i.e. NAs).\n"
     ]
    }
   ],
   "source": [
    "# R functions are often 'silent' (return from a function invisibly)\n",
    "# In addition, the numbers above lack context. The two commands\n",
    "# cat and print can be used to add user feedback. As an example:\n",
    "cat(\"There are: \", nrow(glucs), \" rows and \", sep=\"\");\n",
    "cat( ncol(glucs), \" columns in the dataset.\\n\", sep=\"\");\n",
    "cat(\"There are:\", length(which(is.na(glucs))), \"missing data (i.e. NAs).\\n\");\n",
    "\n",
    "# the newline character is '\\n' "
   ]
  },
  {
   "cell_type": "markdown",
   "metadata": {},
   "source": [
    "### Quality control in *nix?\n",
    "If the numbers do not match your expectation, open the file in vi/emacs or another text editor... and look for special characters or quotes/comments that may have interrupted the import.\n",
    "\n",
    "You're probably familiar with some of the more common errors. For example, if the number of columns doesn't match the number of column names, *R* will return an error. However, this is a 'nice' error, because it forces you to look at the data in more detail. The scariest errors are the errors that escape your attention. It's thus very important to review your data (e.g. what happens if you concatenate 2 data files?)."
   ]
  },
  {
   "cell_type": "code",
   "execution_count": 8,
   "metadata": {},
   "outputs": [],
   "source": [
    "# or alternatively:\n",
    "# command <- paste0( \"head \", glucosinolateFileName );\n",
    "# print( system( command, wait=T, intern=T ));"
   ]
  },
  {
   "cell_type": "markdown",
   "metadata": {},
   "source": [
    "### What is the phenotype?\n",
    "\n",
    "The glucosinolate data were generated with the plant genetic model species *Arabidopsis thaliana*\n",
    "\n",
    "One of the main reasons geneticists use *A. thaliana* is because it is self compatible, which means that inbred lines can be created through self pollination. In *A. thaliana*, these inbred lines were created by placing each plant's flowers in bags to minimize cross pollination among individuals.\n",
    "\n",
    "The seeds from these inbred lines can then be used as replicates in experiments. Replicated inbred lines allow us to estimate the mean phenotype for any given genotype at a much higher precision level than is usually possible in obligate outcrossing species. For GWAS, work with inbred lines improves power - since one can use *fewer* individuals than would be necessary in other species.\n",
    "\n",
    "But how many replicates are available for each line? And how should we handle these replicates?"
   ]
  },
  {
   "cell_type": "code",
   "execution_count": 9,
   "metadata": {},
   "outputs": [
    {
     "name": "stdout",
     "output_type": "stream",
     "text": [
      "There are: 595 unique accessions.\n"
     ]
    },
    {
     "data": {
      "text/plain": [
       "\n",
       "     1      2      4      6      7      8      9     12     23     32     45 \n",
       "     2      4      3      4      4      4      4      3      3      5      4 \n",
       "    51     60     62     66     69     74     79     80     81     83     84 \n",
       "     3      2      5      7      6      3      5      3      4      2      5 \n",
       "    85     86     87     88     89     91     94     96    104    106    116 \n",
       "     4      3      4      5      3      5      3      6      6      2      2 \n",
       "   121    122    126    137    146    148    149    151    153    157    159 \n",
       "     5      4      6      4      2      3      3      4      3      3      3 \n",
       "   160    163    165    166    167    169    170    173    174    175    178 \n",
       "     2      4      6      5      5      2      2      2      4      3      6 \n",
       "   179    183    184    185    187    188    190    191    194    196    198 \n",
       "     2      6      3      5      4      4      3      4      6      4      5 \n",
       "   200    202    203    204    205    206    207    208    210    212    213 \n",
       "     3      4      2      2      3      3      3      6      5      4      3 \n",
       "   214    215    216    217    219    222    223    224    230    231    236 \n",
       "     2      2      3      3      3      4      4      3      2      2      3 \n",
       "   252    262    263    267    269    273    282    287    288    295    296 \n",
       "     2      2      2      3      2      3      3      2      2      2      2 \n",
       "   314    318    320    321    323    326    327    328    332    334    338 \n",
       "     3      3      2      2      3      2      4      3      3      5      2 \n",
       "   339    340    341    346    347    348    349    355    357    359    361 \n",
       "     2      2      2      4      2      5      2      6      4      2      2 \n",
       "   363    364    366    367    368    369    371    372    374    375    377 \n",
       "     2      4      2      4      3      3      2      5      6      3      5 \n",
       "   378    379    380    383    385    386    387    389    390    391    392 \n",
       "     4      4      3      4      2      4      6      5      5      3      2 \n",
       "   393    396    397    466    992    996    998   1026   1061   1062   1063 \n",
       "     2      3      2      3      2      2      3      3      4      5      3 \n",
       "  1064   1068   1070   1072   1073   1075   1158   1163   1166   1169   1247 \n",
       "     4      4      2      3      2      3      2      2      2      3      4 \n",
       "  1254   1256   1257   1312   1313   1317   1318   1360   1362   1363   1366 \n",
       "     4      5      4      3      4      4      6      6      5      4      4 \n",
       "  1374   1391   1404   1435   1552   1585   4632   4675   4757   4820   4827 \n",
       "     2      5      5      4      5      4      6      4      2      3      6 \n",
       "  4879   4927   4935   5106   5141   5145   5146   5175   5282   5292   5310 \n",
       "     3      3      2      3      5      3      2      3      4      2      3 \n",
       "  5322   5335   5337   5350   5364   5373   5377   5394   5398   5444   5450 \n",
       "     2      2      3      3      4      3      3      2      2      3      3 \n",
       "  5466   5536   5582   5645   5678   5708   5709   5710   5711   5713   5715 \n",
       "     5      2      2      4      2      3      3      3      3      2      6 \n",
       "  5716   5717   5720   5721   5722   5723   5724   5733   5735   5737   5738 \n",
       "     3      2      3      4      2      4      4      2      3      2      3 \n",
       "  5741   5742   5744   5746   5749   5751   5756   5759   5762   5767   5769 \n",
       "     2      5      2      4      2      3      2      3      2      4      3 \n",
       "  5770   5772   5774   5777   5780   5781   5782   5784   5787   5788   5789 \n",
       "     2      4      3      4      3      3      2      4      3      4      2 \n",
       "  5792   5793   5795   5798   5799   5802   5804   5812   5816   5817   5819 \n",
       "     4      6      3      2      6      4      3      3      4      5      4 \n",
       "  5821   5826   5831   5832   5835   5836   5856   5860   5867   5870   6008 \n",
       "     6      3      4      2      3      3      4      3      3      2      3 \n",
       "  6010   6011   6012   6013   6016   6017   6019   6020   6021   6022   6024 \n",
       "     6      4      3      3      2      2      2      4      3      3      3 \n",
       "  6025   6030   6034   6036   6038   6039   6040   6041   6042   6043   6046 \n",
       "     3      3      6      4      2      4      3      3      4      4      5 \n",
       "  6064   6069   6074   6076   6077   6085   6086   6087   6090   6091   6092 \n",
       "     4      5      5      2      2      2      7      2      6      4      5 \n",
       "  6093   6094   6095   6096   6097   6098   6099   6100   6101   6102   6103 \n",
       "     2      5      4      3      7      4      6      7      5      8      5 \n",
       "  6104   6106   6107   6108   6109   6111   6112   6114   6115   6116   6118 \n",
       "     4      4      6      6      7      6      7      5      5      5      5 \n",
       "  6119   6120   6121   6122   6123   6124   6125   6126   6127   6128   6129 \n",
       "     4      4      5      2      6      6      6      6      3      7      5 \n",
       "  6131   6132   6133   6134   6136   6137   6138   6140   6141   6142   6143 \n",
       "     4      5      2      4      2      5      3      5      4      2      4 \n",
       "  6144   6147   6151   6154   6163   6166   6169   6170   6171   6172   6173 \n",
       "     4      5      5      5      5      5      5      5      4      5      2 \n",
       "  6174   6177   6180   6184   6189   6191   6192   6193   6194   6195   6197 \n",
       "     4      2      4      5      5      5      2      3      6      4      4 \n",
       "  6198   6199   6200   6201   6202   6203   6207   6209   6210   6212   6214 \n",
       "     2      6      5      4      4      3      3      3      2      6      4 \n",
       "  6215   6216   6217   6218   6220   6221   6226   6237   6241   6242   6243 \n",
       "     2      5      4      3      4      6      3      3      2      6      5 \n",
       "  6244   6252   6255   6258   6268   6276   6284   6411   6412   6413   6898 \n",
       "     7      3      5      4      3      2      6      3      5      5      4 \n",
       "  6901   6903   6905   6906   6907   6913   6914   6916   6917   6918   6919 \n",
       "     2      2      7      2      2      3      4      3      2      4      2 \n",
       "  6921   6922   6930   6937   6940   6942   6946   6951   6956   6958   6959 \n",
       "     2      2      2      3      2      2      3      2      2      5      2 \n",
       "  6960   6962   6964   6965   6969   6972   6973   6975   6976   6977   6979 \n",
       "     5      2      2      3      2      2      4      2      2      3      2 \n",
       "  6980   6982   6985   6988   7033   7071   7081   7092   7192   7296   7320 \n",
       "     2      3      3      2      2      7      2      6      2      3      3 \n",
       "  7430   7508   7516   7519   7520   7525   8213   8214   8218   8222   8225 \n",
       "     4      4      3      2      3      3      2      2      6      3      5 \n",
       "  8227   8230   8231   8233   8236   8237   8238   8239   8240   8241   8242 \n",
       "     4      5      7      2      2      4      2      3      4      4      6 \n",
       "  8247   8249   8256   8258   8259   8265   8266   8271   8275   8283   8284 \n",
       "     4      4      8      7      8      3      2      2      4      3      2 \n",
       "  8285   8290   8296   8300   8304   8306   8307   8310   8311   8313   8314 \n",
       "     3      3      2      3      3      3      4      3      3      3      2 \n",
       "  8323   8325   8326   8329   8334   8337   8343   8351   8354   8357   8365 \n",
       "     2      3      6      2      3      2      7      3      5      2      4 \n",
       "  8374   8376   8378   8386   8387   8388   8389   8395   8412   8420   8422 \n",
       "     2      6      3      6      3      3      3      3      3      2      7 \n",
       "  8423   8426   8427   8430   9057   9058   9302   9308   9309   9321   9323 \n",
       "     5      7      5      2      4      4      3      2      4      3      4 \n",
       "  9332   9336   9339   9342   9343   9344   9349   9351   9352   9353   9354 \n",
       "     3      7      5      6      7      4      7      6      4      4      2 \n",
       "  9355   9356   9363   9367   9369   9371   9378   9380   9381   9382   9383 \n",
       "     4      5      4      6      4      4      4      4      5      8      6 \n",
       "  9384   9385   9386   9388   9390   9391   9392   9399   9402   9404   9405 \n",
       "     7      5      6      6      5      4      3      6      5      6      4 \n",
       "  9407   9408   9409   9410   9411   9412   9413   9416   9418   9419   9421 \n",
       "     3      5      4      3      5      4      3      5      4      5      6 \n",
       "  9427   9433   9434   9436   9437   9442   9450   9451   9452   9453   9454 \n",
       "     4      5      7      5      4      3      6      4      5      2      3 \n",
       "  9469   9470   9471   9472   9476   9481   9482   9490   9496   9499   9504 \n",
       "     2      7      4      2      4      3      5      5      4      3      3 \n",
       "100000 \n",
       "     5 "
      ]
     },
     "metadata": {},
     "output_type": "display_data"
    }
   ],
   "source": [
    "cat(\"There are:\", length(unique(glucs$accession_id)), \"unique accessions.\\n\");\n",
    "tableOfAccessionIds <- table(glucs$accession_id);\n",
    "tableOfAccessionIds;"
   ]
  },
  {
   "cell_type": "code",
   "execution_count": 10,
   "metadata": {},
   "outputs": [
    {
     "name": "stdout",
     "output_type": "stream",
     "text": [
      "The number of replicates ranges between 2 and 8\n",
      "With a mean of: 3.695798 \n"
     ]
    },
    {
     "name": "stderr",
     "output_type": "stream",
     "text": [
      "Loading required package: lme4\n",
      "Warning message:\n",
      "“package ‘lme4’ was built under R version 3.4.4”Loading required package: Matrix\n",
      "Loading required package: ggplot2\n",
      "Loading required package: gridExtra\n"
     ]
    }
   ],
   "source": [
    "# That's hard to read, somewhat better is:\n",
    "rangeOfReplicates <- range(tableOfAccessionIds);\n",
    "cat(\"The number of replicates ranges between \", rangeOfReplicates[1], \" and \", rangeOfReplicates[2], \"\\n\", sep=\"\");\n",
    "cat(\"With a mean of:\", mean(tableOfAccessionIds), \"\\n\");\n",
    "\n",
    "# if lme4, ggplot2, and gridExtra aren't installed, install them...\n",
    "if( !require(\"lme4\" )){  \n",
    "    install.packages(\"lme4\");  \n",
    "}\n",
    "\n",
    "if( !require(\"ggplot2\" )){  \n",
    "    install.packages(\"ggplot2\");  \n",
    "}\n",
    "\n",
    "if( !require(\"gridExtra\" )){  \n",
    "    install.packages(\"gridExtra\");  \n",
    "}\n"
   ]
  },
  {
   "cell_type": "code",
   "execution_count": 11,
   "metadata": {},
   "outputs": [
    {
     "name": "stderr",
     "output_type": "stream",
     "text": [
      "Don't know how to automatically pick scale for object of type table. Defaulting to continuous.\n"
     ]
    },
    {
     "data": {},
     "metadata": {},
     "output_type": "display_data"
    },
    {
     "data": {
      "image/png": "[encoded data removed]",
      "text/plain": [
       "plot without title"
      ]
     },
     "metadata": {},
     "output_type": "display_data"
    }
   ],
   "source": [
    "# there's quite a range of replicate counts\n",
    "# plot the # of replicates per genotype\n",
    "options(repr.plot.width=2.5, repr.plot.height=2.5)\n",
    "counts <- table(glucs$accession_id);\n",
    "ggplot() + aes(counts) + \n",
    "        xlab( paste0( \"The number of replicates\" )) + ylab(\"Counts\") +\n",
    "        geom_bar(stat=\"count\", fill=\"tan1\") + \n",
    "        geom_vline(aes(xintercept=mean(counts)), linetype=3);"
   ]
  },
  {
   "cell_type": "markdown",
   "metadata": {},
   "source": [
    "### Estimate the mean phenotype per genotype"
   ]
  },
  {
   "cell_type": "code",
   "execution_count": 12,
   "metadata": {},
   "outputs": [
    {
     "data": {
      "text/html": [
       "<table>\n",
       "<thead><tr><th></th><th scope=col>tapply_mean</th><th scope=col>accession_id</th></tr></thead>\n",
       "<tbody>\n",
       "\t<tr><th scope=row>590</th><td>11339.72940</td><td>9482       </td></tr>\n",
       "\t<tr><th scope=row>591</th><td>   66.02516</td><td>9490       </td></tr>\n",
       "\t<tr><th scope=row>592</th><td>  130.62605</td><td>9496       </td></tr>\n",
       "\t<tr><th scope=row>593</th><td>  594.60669</td><td>9499       </td></tr>\n",
       "\t<tr><th scope=row>594</th><td>  116.24258</td><td>9504       </td></tr>\n",
       "\t<tr><th scope=row>595</th><td>  792.81981</td><td>100000     </td></tr>\n",
       "</tbody>\n",
       "</table>\n"
      ],
      "text/latex": [
       "\\begin{tabular}{r|ll}\n",
       "  & tapply\\_mean & accession\\_id\\\\\n",
       "\\hline\n",
       "\t590 & 11339.72940 & 9482       \\\\\n",
       "\t591 &    66.02516 & 9490       \\\\\n",
       "\t592 &   130.62605 & 9496       \\\\\n",
       "\t593 &   594.60669 & 9499       \\\\\n",
       "\t594 &   116.24258 & 9504       \\\\\n",
       "\t595 &   792.81981 & 100000     \\\\\n",
       "\\end{tabular}\n"
      ],
      "text/markdown": [
       "\n",
       "| <!--/--> | tapply_mean | accession_id | \n",
       "|---|---|---|---|---|---|\n",
       "| 590 | 11339.72940 | 9482        | \n",
       "| 591 |    66.02516 | 9490        | \n",
       "| 592 |   130.62605 | 9496        | \n",
       "| 593 |   594.60669 | 9499        | \n",
       "| 594 |   116.24258 | 9504        | \n",
       "| 595 |   792.81981 | 100000      | \n",
       "\n",
       "\n"
      ],
      "text/plain": [
       "    tapply_mean accession_id\n",
       "590 11339.72940 9482        \n",
       "591    66.02516 9490        \n",
       "592   130.62605 9496        \n",
       "593   594.60669 9499        \n",
       "594   116.24258 9504        \n",
       "595   792.81981 100000      "
      ]
     },
     "metadata": {},
     "output_type": "display_data"
    }
   ],
   "source": [
    "# tapply offers a fast way to estimate the mean (or any other summary statistic) across a factor\n",
    "dataSummary <- stack(with(glucs, tapply(G2P, list(accession_id), mean))); # stack can be used to convert a vector into a 2-col matrix\n",
    "colnames(dataSummary) <- c(\"tapply_mean\", \"accession_id\" );\n",
    "tail(dataSummary);"
   ]
  },
  {
   "cell_type": "markdown",
   "metadata": {},
   "source": [
    "<!-- # this is roughly equivalent to using something more model-based\n",
    "# residuals are often used in GWAS, especially when nuisance variables are taken 'into account' (e.g. plate_id, etc.)\n",
    "# as a simple example:\n",
    "lm0 <- lm( G2P ~ 1, data=glucs); \n",
    "resids <- stack(residuals(lm0));-->"
   ]
  },
  {
   "cell_type": "code",
   "execution_count": 13,
   "metadata": {},
   "outputs": [
    {
     "data": {
      "text/html": [
       "<table>\n",
       "<thead><tr><th scope=col>accession_id</th><th scope=col>blup</th></tr></thead>\n",
       "<tbody>\n",
       "\t<tr><td>1        </td><td>-5271.448</td></tr>\n",
       "\t<tr><td>2        </td><td>-8390.965</td></tr>\n",
       "\t<tr><td>4        </td><td>-8618.790</td></tr>\n",
       "\t<tr><td>6        </td><td>-9610.424</td></tr>\n",
       "\t<tr><td>7        </td><td>-7955.538</td></tr>\n",
       "\t<tr><td>8        </td><td>-9497.424</td></tr>\n",
       "</tbody>\n",
       "</table>\n"
      ],
      "text/latex": [
       "\\begin{tabular}{r|ll}\n",
       " accession\\_id & blup\\\\\n",
       "\\hline\n",
       "\t 1         & -5271.448\\\\\n",
       "\t 2         & -8390.965\\\\\n",
       "\t 4         & -8618.790\\\\\n",
       "\t 6         & -9610.424\\\\\n",
       "\t 7         & -7955.538\\\\\n",
       "\t 8         & -9497.424\\\\\n",
       "\\end{tabular}\n"
      ],
      "text/markdown": [
       "\n",
       "accession_id | blup | \n",
       "|---|---|---|---|---|---|\n",
       "| 1         | -5271.448 | \n",
       "| 2         | -8390.965 | \n",
       "| 4         | -8618.790 | \n",
       "| 6         | -9610.424 | \n",
       "| 7         | -7955.538 | \n",
       "| 8         | -9497.424 | \n",
       "\n",
       "\n"
      ],
      "text/plain": [
       "  accession_id blup     \n",
       "1 1            -5271.448\n",
       "2 2            -8390.965\n",
       "3 4            -8618.790\n",
       "4 6            -9610.424\n",
       "5 7            -7955.538\n",
       "6 8            -9497.424"
      ]
     },
     "metadata": {},
     "output_type": "display_data"
    }
   ],
   "source": [
    "# another option: use a mixed model to specify a random effect\n",
    "require(lme4);\n",
    "lmer0 <- lmer( G2P ~ 1 + (1|accession_id), data=glucs );\n",
    "blups <- ranef(lmer0)$accession_id; # these are the best-linear unbiased predictors:\n",
    "blups <- data.frame( accession_id=rownames(blups), blup=blups[,1], stringsAsFactors=FALSE );\n",
    "head(blups);"
   ]
  },
  {
   "cell_type": "code",
   "execution_count": 14,
   "metadata": {},
   "outputs": [
    {
     "data": {
      "text/html": [
       "<table>\n",
       "<thead><tr><th scope=col>accession_id</th><th scope=col>blup</th><th scope=col>tapply_mean</th></tr></thead>\n",
       "<tbody>\n",
       "\t<tr><td>1          </td><td> -5271.4476</td><td> 4562.9146 </td></tr>\n",
       "\t<tr><td>100000     </td><td>-10511.2044</td><td>  792.8198 </td></tr>\n",
       "\t<tr><td>1026       </td><td> -8858.4554</td><td>  102.3605 </td></tr>\n",
       "\t<tr><td>104        </td><td> -9552.1414</td><td> 3157.4517 </td></tr>\n",
       "\t<tr><td>106        </td><td> -5942.3350</td><td> 2967.9322 </td></tr>\n",
       "\t<tr><td>1061       </td><td>  -523.5105</td><td>16211.3113 </td></tr>\n",
       "</tbody>\n",
       "</table>\n"
      ],
      "text/latex": [
       "\\begin{tabular}{r|lll}\n",
       " accession\\_id & blup & tapply\\_mean\\\\\n",
       "\\hline\n",
       "\t 1           &  -5271.4476 &  4562.9146 \\\\\n",
       "\t 100000      & -10511.2044 &   792.8198 \\\\\n",
       "\t 1026        &  -8858.4554 &   102.3605 \\\\\n",
       "\t 104         &  -9552.1414 &  3157.4517 \\\\\n",
       "\t 106         &  -5942.3350 &  2967.9322 \\\\\n",
       "\t 1061        &   -523.5105 & 16211.3113 \\\\\n",
       "\\end{tabular}\n"
      ],
      "text/markdown": [
       "\n",
       "accession_id | blup | tapply_mean | \n",
       "|---|---|---|---|---|---|\n",
       "| 1           |  -5271.4476 |  4562.9146  | \n",
       "| 100000      | -10511.2044 |   792.8198  | \n",
       "| 1026        |  -8858.4554 |   102.3605  | \n",
       "| 104         |  -9552.1414 |  3157.4517  | \n",
       "| 106         |  -5942.3350 |  2967.9322  | \n",
       "| 1061        |   -523.5105 | 16211.3113  | \n",
       "\n",
       "\n"
      ],
      "text/plain": [
       "  accession_id blup        tapply_mean\n",
       "1 1             -5271.4476  4562.9146 \n",
       "2 100000       -10511.2044   792.8198 \n",
       "3 1026          -8858.4554   102.3605 \n",
       "4 104           -9552.1414  3157.4517 \n",
       "5 106           -5942.3350  2967.9322 \n",
       "6 1061           -523.5105 16211.3113 "
      ]
     },
     "metadata": {},
     "output_type": "display_data"
    },
    {
     "data": {},
     "metadata": {},
     "output_type": "display_data"
    },
    {
     "data": {
      "image/png": "[encoded data removed]",
      "text/plain": [
       "plot without title"
      ]
     },
     "metadata": {},
     "output_type": "display_data"
    }
   ],
   "source": [
    "both <- merge(blups, dataSummary, by=\"accession_id\" );\n",
    "head(both);\n",
    "ggplot( both, aes(x=blup, y=tapply_mean)) + geom_point(alpha=0.5, col=\"cadetblue2\" ); "
   ]
  },
  {
   "cell_type": "markdown",
   "metadata": {},
   "source": [
    "The two techniques are similar, but the results aren't perfectly correlated. Why? (one approach: identify the outlier accessions)"
   ]
  },
  {
   "cell_type": "markdown",
   "metadata": {},
   "source": [
    "### Checking model assumptions/normality for a phenotype"
   ]
  },
  {
   "cell_type": "code",
   "execution_count": 15,
   "metadata": {},
   "outputs": [
    {
     "data": {
      "image/png": "[encoded data removed]",
      "text/plain": [
       "plot without title"
      ]
     },
     "metadata": {},
     "output_type": "display_data"
    }
   ],
   "source": [
    "# count data are often non-normal, there are various ways \n",
    "# to investigate normality, including Normal Q-Q plots (quantile-quantile) plots\n",
    "# here is an example with data sampled from a normal distribution:\n",
    "normalData <- rnorm(1e4);\n",
    "p1 <- ggplot() + aes(sample=normalData) + stat_qq(col=\"forestgreen\", size=2) + stat_qq_line(col=\"tan1\", size=1.25);\n",
    "\n",
    "# and the glucosinolate G2P\n",
    "p2 <- ggplot( glucs, aes(sample=G2P)) + stat_qq(col=\"firebrick1\", size=2) + stat_qq_line(col=\"cadetblue2\", size=1.25);\n",
    "\n",
    "options(repr.plot.width=4, repr.plot.height=2.5)\n",
    "grid.arrange(p1, p2, ncol = 2);"
   ]
  },
  {
   "cell_type": "code",
   "execution_count": 16,
   "metadata": {},
   "outputs": [
    {
     "data": {
      "image/png": "[encoded data removed]",
      "text/plain": [
       "plot without title"
      ]
     },
     "metadata": {},
     "output_type": "display_data"
    }
   ],
   "source": [
    "# The Q-Q plot suggests the data are highly non-normal\n",
    "# The non-normality is also evident in a density plot:\n",
    "p1 <- ggplot() + aes(x=rnorm(1e5)) + \n",
    "            xlab( \"Normal Distribution\") +\n",
    "            geom_density();\n",
    "p2 <- ggplot( glucs, aes(x=G2P)) + \n",
    "            theme(axis.text.x = element_text(angle = 35)) +\n",
    "            geom_density(color=\"darkblue\", fill=\"lightblue\");\n",
    "\n",
    "grid.arrange(p1, p2, ncol = 2);"
   ]
  },
  {
   "cell_type": "code",
   "execution_count": 17,
   "metadata": {},
   "outputs": [
    {
     "data": {
      "text/plain": [
       "\n",
       "\tShapiro-Wilk normality test\n",
       "\n",
       "data:  glucs$G2P\n",
       "W = 0.66011, p-value < 2.2e-16\n"
      ]
     },
     "metadata": {},
     "output_type": "display_data"
    }
   ],
   "source": [
    "# Again, the data are clearly non-normal. These are visual tests, which are fine,\n",
    "# but you may want to use formalized tests such as the Shapiro-Wilk test:\n",
    "shapiro.test(glucs$G2P);"
   ]
  },
  {
   "cell_type": "code",
   "execution_count": 18,
   "metadata": {
    "scrolled": true
   },
   "outputs": [
    {
     "name": "stderr",
     "output_type": "stream",
     "text": [
      "Warning message in ks.test(glucs$G2P, y = \"pnorm\"):\n",
      "“ties should not be present for the Kolmogorov-Smirnov test”"
     ]
    },
    {
     "data": {
      "text/plain": [
       "\n",
       "\tOne-sample Kolmogorov-Smirnov test\n",
       "\n",
       "data:  glucs$G2P\n",
       "D = 0.86539, p-value < 2.2e-16\n",
       "alternative hypothesis: two-sided\n"
      ]
     },
     "metadata": {},
     "output_type": "display_data"
    }
   ],
   "source": [
    "# or the Kolmogorov-Smirnov (KS) normality test:\n",
    "# nb: y can either be a vector of data values or a character string naming a cumulative distribution function (cdf)\n",
    "ks.test( glucs$G2P, y=\"pnorm\"); "
   ]
  },
  {
   "cell_type": "markdown",
   "metadata": {},
   "source": [
    "### The data are clearly non-normal!!!\n",
    "\n",
    "What are your other options? In the next notebook, we'll consider some alternative approaches.\n"
   ]
  }
 ],
 "metadata": {
  "kernelspec": {
   "display_name": "R",
   "language": "R",
   "name": "ir"
  },
  "language_info": {
   "codemirror_mode": "r",
   "file_extension": ".r",
   "mimetype": "text/x-r-source",
   "name": "R",
   "pygments_lexer": "r",
   "version": "3.4.3"
  }
 },
 "nbformat": 4,
 "nbformat_minor": 4
}
